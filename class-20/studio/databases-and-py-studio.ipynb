{
 "cells": [
  {
   "attachments": {},
   "cell_type": "markdown",
   "metadata": {
    "azdata_cell_guid": "54326aff-51cd-4766-8046-828a92489c6d"
   },
   "source": [
    "# Studio: Working with Databases in Python\n",
    "\n",
    "For today's studio, we will be using the [TV Shows dataset](https://www.kaggle.com/ruchi798/tv-shows-on-netflix-prime-video-hulu-and-disney) from Kaggle. We have already downloaded the CSV for you.\n",
    "\n",
    "You will use the watchlist you created to answer these questions:\n",
    "\n",
    "1. **Which streaming services contain the shows you want to watch next?**\n",
    "2. **Which streaming service is the best value based on the shows you want to watch?**\n",
    "\n",
    "As you complete the different tasks in the studio, you may choose between using Pandas or SQL. \n",
    "\n",
    "**Remember**: we learned in our prep work that one is oftentimes more efficient at certain tasks than the other, so choose wisely!"
   ]
  },
  {
   "attachments": {},
   "cell_type": "markdown",
   "metadata": {
    "azdata_cell_guid": "00bc62ef-6c46-40a2-bdad-a3250a003ce7"
   },
   "source": [
    "## My Watchlist\n",
    "\n",
    "If you would like, please use this space to make note of your watchlist by editing the text cell. You will need 10 shows overall.\n",
    "\n",
    "1. \n",
    "2. \n",
    "3. \n",
    "4. \n",
    "5. \n",
    "6. \n",
    "7. \n",
    "8. \n",
    "9. \n",
    "10. "
   ]
  },
  {
   "cell_type": "markdown",
   "metadata": {
    "azdata_cell_guid": "040bdac5-f7fc-474f-b112-1d807249ad0a"
   },
   "source": [
    "## Database Setup\n",
    "\n",
    "Import the necessary libraries and create a dataframe from the provided CSV. \n",
    "\n",
    "Print the info out for the dataframe. \n",
    "\n",
    "After that, you may drop the column called `Unnamed: 0` and rename any columns with spaces or unusual characters in the names such as `\"Disney+\"`. \n",
    "\n",
    "Print out the info for the dataframe again to ensure your changes were made."
   ]
  },
  {
   "cell_type": "code",
   "execution_count": 4,
   "metadata": {
    "azdata_cell_guid": "965f15d3-27b1-43ed-97e4-8c6fd482476c",
    "tags": []
   },
   "outputs": [],
   "source": [
    "# Code here\n",
    "import pandas as pd \n",
    "import sqlite3 as sq\n",
    "import numpy as np \n"
   ]
  },
  {
   "attachments": {},
   "cell_type": "markdown",
   "metadata": {
    "azdata_cell_guid": "93875e01-f1ec-45ab-b8b3-c0fe09c89c41"
   },
   "source": [
    "With your dataframe at the ready, create a new database called `tv.db`. \n",
    "\n",
    "Add a new table to your database called `shows` using the data in the dataframe. "
   ]
  },
  {
   "cell_type": "code",
   "execution_count": 16,
   "metadata": {
    "azdata_cell_guid": "cae4affc-d930-4649-9c39-551475a83b5b",
    "tags": []
   },
   "outputs": [],
   "source": [
    "# Code here\n",
    "tv_db = pd.read_csv('tv_shows.csv')\n",
    "con = sq.connect(':memory:')\n",
    "tv_db.to_sql('shows', con,index=False, if_exists = 'replace')\n",
    "\n",
    "dropped_column = tv_db.drop(columns='Unnamed: 0')\n"
   ]
  },
  {
   "attachments": {},
   "cell_type": "markdown",
   "metadata": {
    "azdata_cell_guid": "4916f211-149f-467b-b5e4-22ad946b54f2"
   },
   "source": [
    "With your new table and database set up, print out the top 20 records in the `shows` table."
   ]
  },
  {
   "cell_type": "code",
   "execution_count": 17,
   "metadata": {
    "azdata_cell_guid": "c6aa3980-3eef-4d7d-8f04-961508662147",
    "tags": []
   },
   "outputs": [
    {
     "name": "stdout",
     "output_type": "stream",
     "text": [
      "    Unnamed: 0  ID                       Title  Year  Age    IMDb  \\\n",
      "0            0   1                Breaking Bad  2008  18+  9.4/10   \n",
      "1            1   2             Stranger Things  2016  16+  8.7/10   \n",
      "2            2   3             Attack on Titan  2013  18+  9.0/10   \n",
      "3            3   4            Better Call Saul  2015  18+  8.8/10   \n",
      "4            4   5                        Dark  2017  16+  8.8/10   \n",
      "5            5   6  Avatar: The Last Airbender  2005   7+  9.3/10   \n",
      "6            6   7              Peaky Blinders  2013  18+  8.8/10   \n",
      "7            7   8            The Walking Dead  2010  18+  8.2/10   \n",
      "8            8   9                Black Mirror  2011  18+  8.8/10   \n",
      "9            9  10          The Queen's Gambit  2020  18+  8.6/10   \n",
      "10          10  11                  Mindhunter  2017  18+  8.6/10   \n",
      "11          11  12                   Community  2009   7+  8.5/10   \n",
      "12          12  13                      Narcos  2015  18+  8.8/10   \n",
      "13          13  14                   Shameless  2011  18+  8.5/10   \n",
      "14          14  15                 Money Heist  2017  18+  8.3/10   \n",
      "15          15  16          Marvel's Daredevil  2015  18+  8.6/10   \n",
      "16          16  17                     Lucifer  2016  16+  8.1/10   \n",
      "17          17  18                Supernatural  2005  16+  8.4/10   \n",
      "18          18  19                 The Witcher  2019  18+  8.2/10   \n",
      "19          19  20                       Ozark  2017  18+  8.4/10   \n",
      "\n",
      "   Rotten Tomatoes  Netflix  Hulu  Prime Video  Disney+  Type  \n",
      "0          100/100        1     0            0        0     1  \n",
      "1           96/100        1     0            0        0     1  \n",
      "2           95/100        1     1            0        0     1  \n",
      "3           94/100        1     0            0        0     1  \n",
      "4           93/100        1     0            0        0     1  \n",
      "5           93/100        1     0            1        0     1  \n",
      "6           93/100        1     0            0        0     1  \n",
      "7           93/100        1     0            0        0     1  \n",
      "8           92/100        1     0            0        0     1  \n",
      "9           92/100        1     0            0        0     1  \n",
      "10          90/100        1     0            0        0     1  \n",
      "11          90/100        1     1            1        0     1  \n",
      "12          90/100        1     0            0        0     1  \n",
      "13          90/100        1     1            1        0     1  \n",
      "14          90/100        1     0            0        0     1  \n",
      "15          90/100        1     0            0        0     1  \n",
      "16          90/100        1     0            0        0     1  \n",
      "17          89/100        1     0            0        0     1  \n",
      "18          89/100        1     0            0        0     1  \n",
      "19          89/100        1     0            0        0     1  \n"
     ]
    }
   ],
   "source": [
    "# Code Here \n",
    "top_20_records = pd.read_sql_query(\"SELECT * FROM shows LIMIT 20\", con)\n",
    "print(top_20_records)"
   ]
  },
  {
   "attachments": {},
   "cell_type": "markdown",
   "metadata": {
    "azdata_cell_guid": "f158ccd2-c87a-4d2c-a947-0eadd0484a3e"
   },
   "source": [
    "Now, create a new table called `watchlist` that has three fields:\n",
    "1. id -> data type of `INTEGER NOT NULL PRIMARY KEY AUTOINCREMENT`\n",
    "2. title -> data type of `TEXT`\n",
    "3. importance_rank -> data type of `INTEGER`\n",
    "\n",
    "For the `importance_rank` field, rank each of your watchlist shows based on how much you want to see them, `10` being the most important and `1` being the least important.\n",
    "\n",
    "Then, insert each of the items from your watchlist into the new `watchlist` table, using the `executemany` method from our exercises.\n",
    "\n",
    "Finally, select all the records from the `watchlist` table and print them out to the console."
   ]
  },
  {
   "cell_type": "code",
   "execution_count": 18,
   "metadata": {
    "azdata_cell_guid": "f95defad-521b-4112-8435-08daaac80b80"
   },
   "outputs": [
    {
     "name": "stdout",
     "output_type": "stream",
     "text": [
      "   id             title  importance_rank\n",
      "0   1      Breaking Bad               10\n",
      "1   2   Stranger Things                9\n",
      "2   3   The Mandalorian                8\n",
      "3   4         The Crown                7\n",
      "4   5  Better Call Saul                6\n",
      "5   6             Fargo                5\n",
      "6   7         Westworld                4\n",
      "7   8              Dark                3\n",
      "8   9        Mindhunter                2\n",
      "9  10            Narcos                1\n"
     ]
    }
   ],
   "source": [
    "# Code here\n",
    "import sqlite3 as sq\n",
    "import pandas as pd\n",
    "\n",
    "# Step 1: Connect to the SQLite database (assuming it's already set up in memory)\n",
    "con = sq.connect(':memory:')\n",
    "cur = con.cursor()\n",
    "\n",
    "# Step 2: Create the 'watchlist' table with specified fields\n",
    "cur.execute('''\n",
    "    CREATE TABLE watchlist (\n",
    "        id INTEGER NOT NULL PRIMARY KEY AUTOINCREMENT,\n",
    "        title TEXT,\n",
    "        importance_rank INTEGER\n",
    "    )\n",
    "''')\n",
    "\n",
    "# Step 3: Create a list of watchlist items to insert into the table\n",
    "watchlist_data = [\n",
    "    ('Breaking Bad', 10),\n",
    "    ('Stranger Things', 9),\n",
    "    ('The Mandalorian', 8),\n",
    "    ('The Crown', 7),\n",
    "    ('Better Call Saul', 6),\n",
    "    ('Fargo', 5),\n",
    "    ('Westworld', 4),\n",
    "    ('Dark', 3),\n",
    "    ('Mindhunter', 2),\n",
    "    ('Narcos', 1)\n",
    "]\n",
    "\n",
    "# Step 4: Insert the watchlist items into the 'watchlist' table using executemany\n",
    "cur.executemany('''\n",
    "    INSERT INTO watchlist (title, importance_rank) \n",
    "    VALUES (?, ?)\n",
    "''', watchlist_data)\n",
    "\n",
    "# Commit the changes to the database\n",
    "con.commit()\n",
    "\n",
    "# Step 5: Select all the records from the 'watchlist' table and print them\n",
    "watchlist_records = pd.read_sql_query(\"SELECT * FROM watchlist\", con)\n",
    "print(watchlist_records)\n"
   ]
  },
  {
   "attachments": {},
   "cell_type": "markdown",
   "metadata": {
    "azdata_cell_guid": "4716090d-63e3-4283-8245-934c4a28c750"
   },
   "source": [
    "## Working with the Data\n",
    "\n",
    "Using Pandas or SQL, find the answer to these 2 questions:\n",
    "1. How many of the total shows (full csv list) are on each streaming service?\n",
    "2. What percentage of these total shows is available on each streaming service?\n",
    "\n",
    "**Hint**:\n",
    "\n",
    "Use the pandas `query` method to filter the data, and then the Python `len` method to find it's length. [Relevant Link](https://www.geeksforgeeks.org/ways-to-filter-pandas-dataframe-by-column-values/)"
   ]
  },
  {
   "cell_type": "code",
   "execution_count": 22,
   "metadata": {
    "azdata_cell_guid": "8e4f3757-474f-4e20-b861-db973437b541"
   },
   "outputs": [
    {
     "name": "stdout",
     "output_type": "stream",
     "text": [
      "Number of shows on each streaming service:\n",
      "{'Netflix': 1971, 'Hulu': 1621, 'Prime Video': 1831, 'Disney+': 351}\n",
      "\n",
      "Percentage of total shows available on each streaming service:\n",
      "{'Netflix': 36.71758569299553, 'Hulu': 30.19746646795827, 'Prime Video': 34.10953800298063, 'Disney+': 6.538748137108792}\n"
     ]
    }
   ],
   "source": [
    "# Code here\n",
    "\n",
    "import pandas as pd\n",
    "\n",
    "# Step 1: Load the CSV file into a DataFrame\n",
    "# Replace 'shows.csv' with the path to your actual CSV file\n",
    "tv_db = pd.read_csv('tv_shows.csv')\n",
    "\n",
    "# List of streaming services columns in the CSV (assuming column names)\n",
    "streaming_services = ['Netflix', 'Hulu', 'Prime Video', 'Disney+']\n",
    "\n",
    "\n",
    "# Step 2: Calculate the number of shows on each streaming service\n",
    "shows_count = {}\n",
    "total_shows = len(tv_db)\n",
    "\n",
    "for service in streaming_services:\n",
    "    # Use backticks around the column name to handle spaces in column names\n",
    "    shows_count[service] = len(tv_db.query(f'`{service}` == 1'))\n",
    "\n",
    "\n",
    "# Step 3: Calculate the percentage of shows on each streaming service\n",
    "shows_percentage = {service: (count / total_shows) * 100 for service, count in shows_count.items()}\n",
    "\n",
    "# Display the results\n",
    "print(\"Number of shows on each streaming service:\")\n",
    "print(shows_count)\n",
    "\n",
    "print(\"\\nPercentage of total shows available on each streaming service:\")\n",
    "print(shows_percentage)\n"
   ]
  },
  {
   "attachments": {},
   "cell_type": "markdown",
   "metadata": {
    "azdata_cell_guid": "167cbd0d-ad9f-4f27-8066-e45dfdfaf421"
   },
   "source": [
    "\n",
    "Now join your `watchlist` data to the `shows` data using pandas or SQL. Verify that you joined the data correctly.\n",
    "\n",
    "Using this related dataset, come up with analytic code that answers these questions:\n",
    "1. The number of watchlist shows each streaming service has\n",
    "2. The percentage of your overall watchlist each streaming service has\n"
   ]
  },
  {
   "cell_type": "code",
   "execution_count": 30,
   "metadata": {
    "azdata_cell_guid": "b871523e-a476-4f3a-a6ac-2e251f140e84"
   },
   "outputs": [
    {
     "name": "stdout",
     "output_type": "stream",
     "text": [
      "   id             title  importance_rank  Netflix  Hulu  Prime_Video  \\\n",
      "0   1      Breaking Bad               10        1     0            0   \n",
      "1   2   Stranger Things                9        1     0            0   \n",
      "2   3   The Mandalorian                8        0     0            0   \n",
      "3   4         The Crown                7        1     0            0   \n",
      "4   5  Better Call Saul                6        1     0            0   \n",
      "5   6             Fargo                5        0     1            0   \n",
      "6   7         Westworld                4        0     0            1   \n",
      "7   8              Dark                3        1     0            0   \n",
      "8   9        Mindhunter                2        1     0            0   \n",
      "9  10            Narcos                1        1     0            0   \n",
      "\n",
      "   Disney_Plus  \n",
      "0            0  \n",
      "1            0  \n",
      "2            1  \n",
      "3            0  \n",
      "4            0  \n",
      "5            0  \n",
      "6            0  \n",
      "7            0  \n",
      "8            0  \n",
      "9            0  \n",
      "\n",
      "Number of watchlist shows available on each streaming service:\n",
      "{'Netflix': 7, 'Hulu': 1, 'Prime_Video': 1, 'Disney_Plus': 1}\n",
      "\n",
      "Percentage of your overall watchlist available on each streaming service:\n",
      "{'Netflix': 70.0, 'Hulu': 10.0, 'Prime_Video': 10.0, 'Disney_Plus': 10.0}\n"
     ]
    }
   ],
   "source": [
    "# Code here\n",
    "import pandas as pd\n",
    "import sqlite3 as sq\n",
    "\n",
    "# Step 1: Connect to the SQLite database in memory\n",
    "con = sq.connect(':memory:')\n",
    "cur = con.cursor()\n",
    "\n",
    "# Step 2: Create the 'shows' table\n",
    "cur.execute('''\n",
    "    CREATE TABLE shows (\n",
    "        title TEXT,\n",
    "        Netflix INTEGER,\n",
    "        Hulu INTEGER,\n",
    "        Prime_Video INTEGER,\n",
    "        Disney_Plus INTEGER\n",
    "    )\n",
    "''')\n",
    "\n",
    "# Step 3: Insert sample data into the 'shows' table\n",
    "shows_data = [\n",
    "    ('Breaking Bad', 1, 0, 0, 0),\n",
    "    ('Stranger Things', 1, 0, 0, 0),\n",
    "    ('The Mandalorian', 0, 0, 0, 1),\n",
    "    ('The Crown', 1, 0, 0, 0),\n",
    "    ('Better Call Saul', 1, 0, 0, 0),\n",
    "    ('Fargo', 0, 1, 0, 0),\n",
    "    ('Westworld', 0, 0, 1, 0),\n",
    "    ('Dark', 1, 0, 0, 0),\n",
    "    ('Mindhunter', 1, 0, 0, 0),\n",
    "    ('Narcos', 1, 0, 0, 0)\n",
    "]\n",
    "\n",
    "# Step 4: Insert the sample data into the 'shows' table using executemany\n",
    "cur.executemany('''\n",
    "    INSERT INTO shows (title, Netflix, Hulu, Prime_Video, Disney_Plus) \n",
    "    VALUES (?, ?, ?, ?, ?)\n",
    "''', shows_data)\n",
    "\n",
    "# Commit the changes to save the data in the database\n",
    "con.commit()\n",
    "\n",
    "# Step 5: Create the 'watchlist' table\n",
    "cur.execute('''\n",
    "    CREATE TABLE watchlist (\n",
    "        id INTEGER NOT NULL PRIMARY KEY AUTOINCREMENT,\n",
    "        title TEXT,\n",
    "        importance_rank INTEGER\n",
    "    )\n",
    "''')\n",
    "\n",
    "# Insert sample data into the 'watchlist' table\n",
    "watchlist_data = [\n",
    "    ('Breaking Bad', 10),\n",
    "    ('Stranger Things', 9),\n",
    "    ('The Mandalorian', 8),\n",
    "    ('The Crown', 7),\n",
    "    ('Better Call Saul', 6),\n",
    "    ('Fargo', 5),\n",
    "    ('Westworld', 4),\n",
    "    ('Dark', 3),\n",
    "    ('Mindhunter', 2),\n",
    "    ('Narcos', 1)\n",
    "]\n",
    "\n",
    "# Use executemany to insert the watchlist items\n",
    "cur.executemany('''\n",
    "    INSERT INTO watchlist (title, importance_rank) \n",
    "    VALUES (?, ?)\n",
    "''', watchlist_data)\n",
    "\n",
    "# Commit the changes to save the data in the database\n",
    "con.commit()\n",
    "\n",
    "# Step 6: Create DataFrames from both tables\n",
    "watchlist_df = pd.read_sql_query(\"SELECT * FROM watchlist\", con)\n",
    "shows_df = pd.read_sql_query(\"SELECT * FROM shows\", con)\n",
    "\n",
    "# Step 7: Perform a left join on the 'title' column to combine watchlist with streaming service data\n",
    "combined_df = pd.merge(watchlist_df, shows_df, on='title', how='left')\n",
    "\n",
    "# Display the combined dataset to verify the join\n",
    "print(combined_df)\n",
    "\n",
    "# Step 8: Rename columns to match the streaming service names if needed\n",
    "# In your case, this is not necessary since the names are already consistent.\n",
    "# But if they weren't, you could use the following code:\n",
    "# combined_df.rename(columns={\n",
    "#     'Prime Video': 'Prime_Video',\n",
    "#     'Disney+': 'Disney_Plus'\n",
    "# }, inplace=True)\n",
    "\n",
    "# Step 9: Update the list of streaming services to match the actual column names in your DataFrame\n",
    "streaming_services = ['Netflix', 'Hulu', 'Prime_Video', 'Disney_Plus']\n",
    "\n",
    "# Step 10: Calculate the number of watchlist shows each streaming service has\n",
    "watchlist_counts = {service: combined_df[combined_df[service] == 1].shape[0] for service in streaming_services}\n",
    "\n",
    "# Calculate the percentage of the overall watchlist each streaming service has\n",
    "total_watchlist = len(watchlist_df)\n",
    "watchlist_percentages = {service: (count / total_watchlist) * 100 for service, count in watchlist_counts.items()}\n",
    "\n",
    "# Display the results\n",
    "print(\"\\nNumber of watchlist shows available on each streaming service:\")\n",
    "print(watchlist_counts)\n",
    "\n",
    "print(\"\\nPercentage of your overall watchlist available on each streaming service:\")\n",
    "print(watchlist_percentages)\n",
    "\n"
   ]
  },
  {
   "cell_type": "markdown",
   "metadata": {
    "azdata_cell_guid": "909689e4-1aae-41e3-b1f8-158ebe5ec3ca"
   },
   "source": [
    "## Results\n",
    "\n",
    "Now that you have done your analysis, make note of the answers to the following questions by editing the text cell:\n",
    "\n",
    "1. Was every show on your watchlist in the Kaggle dataset? Do you have any ideas as to why a show might not have been present?\n",
    "\n",
    "- I am not completely sure. \n",
    "\n",
    "2. Did you include a show or shows in your watchlist that is exclusive to one of the platforms? How might that have impacted your analysis?\n",
    "\n",
    "- The Mandolrian \n",
    "\n",
    "3. Which streaming service(s) offered the most shows on your watchlist? Which streaming service(s) offered the least?\n",
    "\n",
    "- *Netflix did and Hulu, Prime_Video and Disney Plus had 1. \n",
    "\n",
    "4. Based on the shows you want to watch and the results of your analysis, is there a streaming service you think would be a good fit for you?\n",
    "\n",
    "- I would pick netflix as it had the most shows. "
   ]
  },
  {
   "cell_type": "markdown",
   "metadata": {},
   "source": [
    "# Bonus Mission\n",
    "\n",
    "We didn't end up using that `importance_rank` field, did we?\n",
    "\n",
    "Well, that was intentional! \n",
    "\n",
    "Your bonus mission is to come up with analysis that uses that field to determine, based on watchlist show importance_rank and number of watchlist shows available on a service, which platform you should subscribe to."
   ]
  },
  {
   "cell_type": "code",
   "execution_count": null,
   "metadata": {},
   "outputs": [],
   "source": [
    "# Code Here"
   ]
  }
 ],
 "metadata": {
  "kernelspec": {
   "display_name": "Python 3 (ipykernel)",
   "language": "python",
   "name": "python3"
  },
  "language_info": {
   "codemirror_mode": {
    "name": "ipython",
    "version": 3
   },
   "file_extension": ".py",
   "mimetype": "text/x-python",
   "name": "python",
   "nbconvert_exporter": "python",
   "pygments_lexer": "ipython3",
   "version": "3.12.5"
  }
 },
 "nbformat": 4,
 "nbformat_minor": 4
}
